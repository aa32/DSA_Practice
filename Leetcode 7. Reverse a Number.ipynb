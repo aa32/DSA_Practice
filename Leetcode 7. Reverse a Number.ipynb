{
 "cells": [
  {
   "cell_type": "code",
   "execution_count": null,
   "id": "569a289d",
   "metadata": {},
   "outputs": [],
   "source": [
    "class Solution:\n",
    "    def reverse(self, x: int) -> int:\n",
    "        INT_MAX = 2**31-1\n",
    "        INT_MIN = -2**31\n",
    "        \n",
    "        def rev(num,neg):\n",
    "            reverse =0\n",
    "            while num:\n",
    "                rem = num%10\n",
    "                #the statement below can cause overflow\n",
    "                if not(neg): \n",
    "                    if (reverse > INT_MAX//10 or reverse == INT_MAX//10 and rem > INT_MAX%10): \n",
    "                        return 0\n",
    "                    else:\n",
    "                    \n",
    "                        reverse = reverse*10+rem\n",
    "                \n",
    "                elif neg:\n",
    "                    if (reverse > abs(INT_MIN)//10 or reverse == abs(INT_MIN)//10 and rem > abs(INT_MIN)%10): \n",
    "                        return 0\n",
    "                    else:\n",
    "                    \n",
    "                        reverse = reverse*10+rem\n",
    "                    \n",
    "                num = num//10\n",
    "            return reverse\n",
    "                \n",
    "        if x <0:\n",
    "            neg = True\n",
    "            x = x*(-1)\n",
    "            return rev(x,neg)*-1\n",
    "        else:\n",
    "            neg = False\n",
    "            return rev(x,neg)\n",
    "        "
   ]
  }
 ],
 "metadata": {
  "kernelspec": {
   "display_name": "Python 3 (ipykernel)",
   "language": "python",
   "name": "python3"
  },
  "language_info": {
   "codemirror_mode": {
    "name": "ipython",
    "version": 3
   },
   "file_extension": ".py",
   "mimetype": "text/x-python",
   "name": "python",
   "nbconvert_exporter": "python",
   "pygments_lexer": "ipython3",
   "version": "3.9.7"
  }
 },
 "nbformat": 4,
 "nbformat_minor": 5
}
